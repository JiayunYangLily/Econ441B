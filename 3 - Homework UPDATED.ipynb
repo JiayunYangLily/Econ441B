{
 "cells": [
  {
   "cell_type": "code",
   "execution_count": 98,
   "id": "55621e94",
   "metadata": {},
   "outputs": [],
   "source": [
    "import pandas as pd\n",
    "import matplotlib.pyplot as plt"
   ]
  },
  {
   "cell_type": "markdown",
   "id": "a055ebb7",
   "metadata": {},
   "source": [
    "# 1.) Clean the Apple Data to get a quarterly series of EPS."
   ]
  },
  {
   "cell_type": "code",
   "execution_count": 99,
   "id": "365b253b",
   "metadata": {},
   "outputs": [],
   "source": [
    "y = pd.read_csv(\"AAPL_quarterly_financials.csv\")"
   ]
  },
  {
   "cell_type": "code",
   "execution_count": 100,
   "id": "8932850f",
   "metadata": {},
   "outputs": [],
   "source": [
    "y.index = y.name"
   ]
  },
  {
   "cell_type": "code",
   "execution_count": 101,
   "id": "449862e7",
   "metadata": {},
   "outputs": [],
   "source": [
    "y = pd.DataFrame(y.loc[\"BasicEPS\", :]).iloc[2:,:]"
   ]
  },
  {
   "cell_type": "code",
   "execution_count": 102,
   "id": "c39e6c1d",
   "metadata": {},
   "outputs": [],
   "source": [
    "y.index = pd.to_datetime(y.index)"
   ]
  },
  {
   "cell_type": "code",
   "execution_count": 103,
   "id": "15452f18",
   "metadata": {},
   "outputs": [],
   "source": [
    "# CHECK IF NAS ARE NO DIVIDEND PERIOD\n",
    "y = y.sort_index().fillna(0.)"
   ]
  },
  {
   "cell_type": "markdown",
   "id": "f660ca3c",
   "metadata": {},
   "source": [
    "# 2.) Come up with 6 search terms you think could nowcast earnings. (Different than the ones I used) Add in 3 terms that that you think will not Nowcast earnings. Pull in the gtrends data"
   ]
  },
  {
   "cell_type": "code",
   "execution_count": 104,
   "id": "101a8370",
   "metadata": {},
   "outputs": [],
   "source": [
    "from pytrends.request import TrendReq"
   ]
  },
  {
   "cell_type": "code",
   "execution_count": 137,
   "id": "715787dd",
   "metadata": {},
   "outputs": [],
   "source": [
    "# Create pytrends object\n",
    "pytrends = TrendReq(hl='en-US', tz=360)\n",
    "\n",
    "# Set up the keywords and the timeframe\n",
    "keywords = ['Amazon', 'AirPods', 'MacBook Air', 'Dynamic Island', 'Apple Watch', 'Keyboard', 'Jessica', 'Kiwi', 'Grace']  # Add your keywords here\n",
    "start_date = '2004-01-01'\n",
    "end_date = '2024-01-01'\n",
    "\n",
    "# Create an empty DataFrame to store the results\n",
    "df = pd.DataFrame()\n",
    "\n",
    "# Iterate through keywords and fetch data\n",
    "for keyword in keywords:\n",
    "    pytrends.build_payload([keyword], cat=0, timeframe=f'{start_date} {end_date}', geo='', gprop='')\n",
    "    interest_over_time_df = pytrends.interest_over_time()\n",
    "    df[keyword] = interest_over_time_df[keyword]"
   ]
  },
  {
   "cell_type": "code",
   "execution_count": 138,
   "id": "22bbb744",
   "metadata": {},
   "outputs": [],
   "source": [
    "df = df.resample(\"Q\").mean()"
   ]
  },
  {
   "cell_type": "code",
   "execution_count": 139,
   "id": "c925f043",
   "metadata": {},
   "outputs": [],
   "source": [
    "# ALIGN DATA\n",
    "temp = pd.concat([y, df],axis = 1).dropna()\n",
    "y = temp[[\"BasicEPS\"]].copy()\n",
    "X = temp.iloc[:,1:].copy()"
   ]
  },
  {
   "cell_type": "markdown",
   "id": "863d55e4",
   "metadata": {},
   "source": [
    "# 3.) Normalize all the X data"
   ]
  },
  {
   "cell_type": "code",
   "execution_count": 74,
   "id": "8325a0f4",
   "metadata": {},
   "outputs": [],
   "source": [
    "from sklearn.preprocessing import StandardScaler"
   ]
  },
  {
   "cell_type": "code",
   "execution_count": 140,
   "id": "bc2504ab",
   "metadata": {},
   "outputs": [],
   "source": [
    "scaler = StandardScaler()\n",
    "X_scaled = scaler.fit_transform(X)"
   ]
  },
  {
   "cell_type": "markdown",
   "id": "925f79f5",
   "metadata": {},
   "source": [
    "# 4.) Run a Lasso with lambda of .5. Plot a bar chart."
   ]
  },
  {
   "cell_type": "code",
   "execution_count": 76,
   "id": "d829a004",
   "metadata": {},
   "outputs": [],
   "source": [
    "from sklearn.linear_model import Lasso"
   ]
  },
  {
   "cell_type": "code",
   "execution_count": 141,
   "id": "5e19efe6",
   "metadata": {},
   "outputs": [],
   "source": [
    "# With a lambda of .5, all the coefficients reduced to zero. We consider the parameter too large and reduced it\n",
    "# to .05\n",
    "lasso = Lasso(alpha = .05)"
   ]
  },
  {
   "cell_type": "code",
   "execution_count": 142,
   "id": "ec86dbde",
   "metadata": {},
   "outputs": [],
   "source": [
    "las = lasso.fit(X_scaled, y)"
   ]
  },
  {
   "cell_type": "code",
   "execution_count": 143,
   "id": "fd87f09b",
   "metadata": {},
   "outputs": [],
   "source": [
    "coefficients = las.coef_"
   ]
  },
  {
   "cell_type": "code",
   "execution_count": 147,
   "id": "c54e8a3d",
   "metadata": {},
   "outputs": [
    {
     "data": {
      "image/png": "[encoded data removed]",
      "text/plain": [
       "<Figure size 1500x500 with 1 Axes>"
      ]
     },
     "metadata": {},
     "output_type": "display_data"
    }
   ],
   "source": [
    "plt.figure(figsize = (15,5))\n",
    "plt.bar(range(len(coefficients)), coefficients)\n",
    "plt.axhline(0, color = \"red\")\n",
    "plt.xticks(range(len(coefficients)), X.columns)\n",
    "plt.show()"
   ]
  },
  {
   "cell_type": "markdown",
   "id": "96278b34",
   "metadata": {},
   "source": [
    "# 5.) Do these coefficient magnitudes make sense?"
   ]
  },
  {
   "cell_type": "markdown",
   "id": "2eb1a819",
   "metadata": {},
   "source": [
    "Yes. Among the nine search terms, the first six of them seem positively correlated with Apple. They are Amazon', 'AirPods', 'MacBook Air', 'Dynamic Island', 'Apple Watch' and 'Keyboard', either products of Apple or other similar companies . However, the last three search term 'Jessica', 'Kevin' and 'Grace' prove to be unrelated to Apple."
   ]
  }
 ],
 "metadata": {
  "kernelspec": {
   "display_name": "Python 3 (ipykernel)",
   "language": "python",
   "name": "python3"
  },
  "language_info": {
   "codemirror_mode": {
    "name": "ipython",
    "version": 3
   },
   "file_extension": ".py",
   "mimetype": "text/x-python",
   "name": "python",
   "nbconvert_exporter": "python",
   "pygments_lexer": "ipython3",
   "version": "3.10.9"
  }
 },
 "nbformat": 4,
 "nbformat_minor": 5
}
