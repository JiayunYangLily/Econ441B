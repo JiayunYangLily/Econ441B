{
 "cells": [
  {
   "cell_type": "markdown",
   "id": "07c34ec6",
   "metadata": {},
   "source": [
    "# 1.) Pull in Data and Convert ot Monthly"
   ]
  },
  {
   "cell_type": "code",
   "execution_count": 18,
   "id": "b48f7d57",
   "metadata": {},
   "outputs": [],
   "source": [
    "import yfinance as yf\n",
    "import pandas as pd\n",
    "import numpy as np\n",
    "import matplotlib.pyplot as plt"
   ]
  },
  {
   "cell_type": "code",
   "execution_count": 19,
   "id": "4fa973aa",
   "metadata": {},
   "outputs": [
    {
     "name": "stdout",
     "output_type": "stream",
     "text": [
      "[*********************100%***********************]  1 of 1 completed\n"
     ]
    }
   ],
   "source": [
    "apple_data = yf.download('AAPL')\n",
    "df = apple_data.resample(\"M\").last()[[\"Adj Close\"]]"
   ]
  },
  {
   "cell_type": "markdown",
   "id": "54bbfd02",
   "metadata": {},
   "source": [
    "# 2.) Create columns. \n",
    "  - Current Stock Price, Difference in stock price, Whether it went up or down over the next month,  option premium"
   ]
  },
  {
   "cell_type": "code",
   "execution_count": 20,
   "id": "1f21f202",
   "metadata": {},
   "outputs": [],
   "source": [
    "# Difference in stockprice\n",
    "df['Diff'] = df['Adj Close'].diff().shift(-1)\n",
    "\n",
    "# Target up or down\n",
    "df['Target'] = np.sign(df['Diff'])\n",
    "\n",
    "# Option Premium\n",
    "df['Premium'] = .08 * df['Adj Close']"
   ]
  },
  {
   "cell_type": "code",
   "execution_count": 21,
   "id": "536e3dad",
   "metadata": {},
   "outputs": [
    {
     "data": {
      "text/html": [
       "<div>\n",
       "<style scoped>\n",
       "    .dataframe tbody tr th:only-of-type {\n",
       "        vertical-align: middle;\n",
       "    }\n",
       "\n",
       "    .dataframe tbody tr th {\n",
       "        vertical-align: top;\n",
       "    }\n",
       "\n",
       "    .dataframe thead th {\n",
       "        text-align: right;\n",
       "    }\n",
       "</style>\n",
       "<table border=\"1\" class=\"dataframe\">\n",
       "  <thead>\n",
       "    <tr style=\"text-align: right;\">\n",
       "      <th></th>\n",
       "      <th>Adj Close</th>\n",
       "      <th>Diff</th>\n",
       "      <th>Target</th>\n",
       "      <th>Premium</th>\n",
       "    </tr>\n",
       "    <tr>\n",
       "      <th>Date</th>\n",
       "      <th></th>\n",
       "      <th></th>\n",
       "      <th></th>\n",
       "      <th></th>\n",
       "    </tr>\n",
       "  </thead>\n",
       "  <tbody>\n",
       "    <tr>\n",
       "      <th>1980-12-31</th>\n",
       "      <td>0.117887</td>\n",
       "      <td>-0.020296</td>\n",
       "      <td>-1.0</td>\n",
       "      <td>0.009431</td>\n",
       "    </tr>\n",
       "    <tr>\n",
       "      <th>1981-01-31</th>\n",
       "      <td>0.097592</td>\n",
       "      <td>-0.006045</td>\n",
       "      <td>-1.0</td>\n",
       "      <td>0.007807</td>\n",
       "    </tr>\n",
       "    <tr>\n",
       "      <th>1981-02-28</th>\n",
       "      <td>0.091546</td>\n",
       "      <td>-0.006909</td>\n",
       "      <td>-1.0</td>\n",
       "      <td>0.007324</td>\n",
       "    </tr>\n",
       "    <tr>\n",
       "      <th>1981-03-31</th>\n",
       "      <td>0.084637</td>\n",
       "      <td>0.013386</td>\n",
       "      <td>1.0</td>\n",
       "      <td>0.006771</td>\n",
       "    </tr>\n",
       "    <tr>\n",
       "      <th>1981-04-30</th>\n",
       "      <td>0.098023</td>\n",
       "      <td>0.016409</td>\n",
       "      <td>1.0</td>\n",
       "      <td>0.007842</td>\n",
       "    </tr>\n",
       "  </tbody>\n",
       "</table>\n",
       "</div>"
      ],
      "text/plain": [
       "            Adj Close      Diff  Target   Premium\n",
       "Date                                             \n",
       "1980-12-31   0.117887 -0.020296    -1.0  0.009431\n",
       "1981-01-31   0.097592 -0.006045    -1.0  0.007807\n",
       "1981-02-28   0.091546 -0.006909    -1.0  0.007324\n",
       "1981-03-31   0.084637  0.013386     1.0  0.006771\n",
       "1981-04-30   0.098023  0.016409     1.0  0.007842"
      ]
     },
     "execution_count": 21,
     "metadata": {},
     "output_type": "execute_result"
    }
   ],
   "source": [
    "df.head()"
   ]
  },
  {
   "cell_type": "markdown",
   "id": "c9987e25",
   "metadata": {},
   "source": [
    "# 3.) Pull in X data, normalize and build a LogReg on column 2"
   ]
  },
  {
   "cell_type": "code",
   "execution_count": 22,
   "id": "132b4471",
   "metadata": {},
   "outputs": [],
   "source": [
    "import numpy as np\n",
    "import pandas as pd\n",
    "from sklearn.model_selection import train_test_split\n",
    "from sklearn.linear_model import LogisticRegression\n",
    "from sklearn import metrics"
   ]
  },
  {
   "cell_type": "code",
   "execution_count": 23,
   "id": "b21f3c33",
   "metadata": {},
   "outputs": [],
   "source": [
    "X = pd.read_csv(\"Xdata.csv\", index_col=\"Date\", parse_dates=[\"Date\"])"
   ]
  },
  {
   "cell_type": "code",
   "execution_count": 24,
   "id": "7b38602e",
   "metadata": {},
   "outputs": [],
   "source": [
    "y = df.loc[:\"2023-09-30\",\"Target\"].copy()\n",
    "df = df.loc[:\"2023-09-30\",:].copy()"
   ]
  },
  {
   "cell_type": "code",
   "execution_count": 25,
   "id": "f3bc75a2",
   "metadata": {},
   "outputs": [],
   "source": [
    "logreg = LogisticRegression()\n",
    "\n",
    "logreg.fit(X, y)\n",
    "\n",
    "y_pred = logreg.predict(X)"
   ]
  },
  {
   "cell_type": "markdown",
   "id": "2c2c792d",
   "metadata": {},
   "source": [
    "# 4.) Add columns, prediction and profits."
   ]
  },
  {
   "cell_type": "code",
   "execution_count": 26,
   "id": "8009466a",
   "metadata": {},
   "outputs": [],
   "source": [
    "df['Predictions'] = y_pred"
   ]
  },
  {
   "cell_type": "code",
   "execution_count": 27,
   "id": "1d41211f",
   "metadata": {},
   "outputs": [],
   "source": [
    "df['Profits'] = 0.\n",
    "\n",
    "# True Positives\n",
    "df.loc[(df['Predictions'] == 1) & (df['Target'] == 1), 'Profits'] = df['Premium']\n",
    "\n",
    "# False Positives\n",
    "df.loc[(df['Predictions'] == 1) & (df['Target'] == -1), 'Profits'] = 100 * df['Diff'] + df['Premium']\n",
    "\n",
    "# True Negatives\n",
    "# =0\n",
    "\n",
    "# False Negatives\n",
    "# =0"
   ]
  },
  {
   "cell_type": "markdown",
   "id": "e379d80c",
   "metadata": {},
   "source": [
    "# 5.) Plot profits over time"
   ]
  },
  {
   "cell_type": "code",
   "execution_count": 28,
   "id": "bc16f4dc",
   "metadata": {},
   "outputs": [
    {
     "data": {
      "image/png": "[encoded data removed]",
      "text/plain": [
       "<Figure size 640x480 with 1 Axes>"
      ]
     },
     "metadata": {},
     "output_type": "display_data"
    }
   ],
   "source": [
    "plt.plot(np.cumsum(df['Profits']))\n",
    "plt.show()"
   ]
  },
  {
   "cell_type": "markdown",
   "id": "a5a5f3ae",
   "metadata": {},
   "source": [
    "# 5.5) Your skills from the MQE to help Mr. Lius ventures"
   ]
  },
  {
   "cell_type": "markdown",
   "id": "d39a2f23",
   "metadata": {},
   "source": [
    "My analytical skills, refined through UCLA's MQE program and further sharpened by practical internship experiences, stands to be a strategic asset to Philip Liu's company and platform. My proficiency in statistical modeling and predictive analytics, with a special focus on economic data, primes me to extract meaningful insights from the company's strategic development. Furthermore, my understanding of machine learning could inject innovative approaches to advancing the company's intelligent systems and bolstering the robustness of the platform. Such skills are indispensable for nurturing a culture of data-led strategy and propelling forward-thinking breakthroughs in the dynamic industry."
   ]
  },
  {
   "cell_type": "markdown",
   "id": "5c970b3f",
   "metadata": {},
   "source": [
    "# 6.) Create a loop that stores total profits over time"
   ]
  },
  {
   "cell_type": "code",
   "execution_count": null,
   "id": "34fe528c",
   "metadata": {},
   "outputs": [],
   "source": []
  },
  {
   "cell_type": "markdown",
   "id": "30f8738c",
   "metadata": {},
   "source": [
    "# 7.) What is the optimal threshold and plot the total profits for this model."
   ]
  },
  {
   "cell_type": "code",
   "execution_count": null,
   "id": "aba0f592",
   "metadata": {},
   "outputs": [],
   "source": []
  }
 ],
 "metadata": {
  "kernelspec": {
   "display_name": "Python 3 (ipykernel)",
   "language": "python",
   "name": "python3"
  },
  "language_info": {
   "codemirror_mode": {
    "name": "ipython",
    "version": 3
   },
   "file_extension": ".py",
   "mimetype": "text/x-python",
   "name": "python",
   "nbconvert_exporter": "python",
   "pygments_lexer": "ipython3",
   "version": "3.10.9"
  }
 },
 "nbformat": 4,
 "nbformat_minor": 5
}
